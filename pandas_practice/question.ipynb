{
 "cells": [
  {
   "cell_type": "markdown",
   "id": "cf138212",
   "metadata": {},
   "source": [
    "# Pandas Dataset Exploration : Generative Models\n",
    "\n",
    "You are given a dataset of timestamped attempts at 3 different models to generate one of 5 different objects. Each attempt, in addition to naming the model and object, has a) whether or not the result was a success and b) how long the generation took. There are two parts to this interview problem"
   ]
  },
  {
   "cell_type": "code",
   "execution_count": 1,
   "id": "c3383573",
   "metadata": {},
   "outputs": [],
   "source": [
    "import pandas as pd\n",
    "import numpy as np"
   ]
  },
  {
   "cell_type": "markdown",
   "id": "f9615d96",
   "metadata": {},
   "source": [
    "## Part 1: Average Performance per Model per Object\n",
    "\n",
    "Find the average performance of each model (both in terms of accuracy and runtime) on each object. From there, determine which models perform better on each of the object categories."
   ]
  },
  {
   "cell_type": "code",
   "execution_count": 5,
   "id": "ff7e39e5",
   "metadata": {},
   "outputs": [],
   "source": [
    "data = pd.read_csv('generative_model.csv')"
   ]
  },
  {
   "cell_type": "code",
   "execution_count": null,
   "id": "4f5d4f66",
   "metadata": {},
   "outputs": [],
   "source": []
  },
  {
   "cell_type": "markdown",
   "id": "7f8470ab",
   "metadata": {},
   "source": [
    "## Part 2: Determine Faulty Perfomance\n",
    "\n",
    "Given a new dataset for July (the next month), find what exactly is wrong with the models"
   ]
  },
  {
   "cell_type": "code",
   "execution_count": 6,
   "id": "14335bbd",
   "metadata": {},
   "outputs": [],
   "source": [
    "data_july = pd.read_csv('generative_model_july.csv')"
   ]
  },
  {
   "cell_type": "code",
   "execution_count": null,
   "id": "bfa8d7fb",
   "metadata": {},
   "outputs": [],
   "source": []
  }
 ],
 "metadata": {
  "kernelspec": {
   "display_name": "Python 3 (ipykernel)",
   "language": "python",
   "name": "python3"
  },
  "language_info": {
   "codemirror_mode": {
    "name": "ipython",
    "version": 3
   },
   "file_extension": ".py",
   "mimetype": "text/x-python",
   "name": "python",
   "nbconvert_exporter": "python",
   "pygments_lexer": "ipython3",
   "version": "3.9.13"
  }
 },
 "nbformat": 4,
 "nbformat_minor": 5
}
